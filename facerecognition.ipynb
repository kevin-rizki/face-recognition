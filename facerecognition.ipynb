{
 "cells": [
  {
   "cell_type": "code",
   "execution_count": 1,
   "metadata": {},
   "outputs": [],
   "source": [
    "# Nama file: facerecognition.ipynb\n",
    "# Copyright: KetokMagicHalal"
   ]
  },
  {
   "cell_type": "code",
   "execution_count": 1,
   "metadata": {},
   "outputs": [],
   "source": [
    "import cv2\n",
    "import numpy as np\n",
    "import scipy\n",
    "import random\n",
    "import os\n",
    "import matplotlib.pyplot as plt\n",
    "import matplotlib.image as mpimg\n",
    "\n",
    "# Wrote using jupyter, changed the working directory\n",
    "# os.chdir('F:/Docs/Kuliah/AlGeo/Tubes Algeo')\n",
    "\n",
    "# Getting images\n",
    "def TraverseImages(root_path='./PINS'):\n",
    "    for dir_name, sub_dir_list, file_list in os.walk(root_path):\n",
    "        print(file_list)\n",
    "\n",
    "# Image path generator\n",
    "def ImagePath(imgdir):\n",
    "    temp = './PINS/pins_Aaron Paul/%s' %(imgdir)\n",
    "    return temp\n",
    "\n",
    "# Image Matcher\n",
    "def ImageMatcher(img_path1, img_path2):\n",
    "    try:\n",
    "        # Load image\n",
    "        img1 = cv2.imread(img_path1)\n",
    "        img2 = cv2.imread(img_path2)\n",
    "        \n",
    "        # We don't need RGB since we're only detecting a single face per image. Result is a hued grayscale image\n",
    "        img1_gray = cv2.cvtColor(img1, cv2.COLOR_BGR2GRAY)\n",
    "        img2_gray = cv2.cvtColor(img2, cv2.COLOR_BGR2GRAY)\n",
    "        \n",
    "        # KAZE descriptor\n",
    "        kaze = cv2.KAZE_create()\n",
    "        keypt1, desc1 = kaze.detectAndCompute(img1_gray, None)\n",
    "        keypt2, desc2 = kaze.detectAndCompute(img2_gray, None)\n",
    "        \n",
    "        # desc1 = np.uint8(desc1)\n",
    "        # desc2 = np.uint8(desc2)\n",
    "        \n",
    "        # bf = cv2.BFMatcher(cv2.NORM_HAMMLING)\n",
    "        bf = cv2.BFMatcher(cv2.NORM_L1)\n",
    "        matches = bf.knnMatch(desc1, desc2, k = 2)\n",
    "        \n",
    "        good = []\n",
    "        for m, n in matches:\n",
    "            if m.distance < 0.9 * n.distance :\n",
    "                good.append([m])\n",
    "                \n",
    "        return len(good)\n",
    "    except cv2.error as e:\n",
    "        print('Error: %s' %(e))"
   ]
  },
  {
   "cell_type": "code",
   "execution_count": 3,
   "metadata": {},
   "outputs": [],
   "source": []
  }
 ],
 "metadata": {
  "kernelspec": {
   "display_name": "Python 3",
   "language": "python",
   "name": "python3"
  },
  "language_info": {
   "codemirror_mode": {
    "name": "ipython",
    "version": 3
   },
   "file_extension": ".py",
   "mimetype": "text/x-python",
   "name": "python",
   "nbconvert_exporter": "python",
   "pygments_lexer": "ipython3",
   "version": "3.7.3"
  }
 },
 "nbformat": 4,
 "nbformat_minor": 2
}
